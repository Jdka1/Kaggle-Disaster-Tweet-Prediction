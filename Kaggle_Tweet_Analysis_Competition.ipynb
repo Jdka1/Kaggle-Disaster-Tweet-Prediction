{
  "nbformat": 4,
  "nbformat_minor": 0,
  "metadata": {
    "colab": {
      "provenance": [],
      "collapsed_sections": [],
      "authorship_tag": "ABX9TyOHsiHpHHCuiRaZQQuAcmaN",
      "include_colab_link": true
    },
    "kernelspec": {
      "name": "python3",
      "display_name": "Python 3"
    },
    "language_info": {
      "name": "python"
    }
  },
  "cells": [
    {
      "cell_type": "markdown",
      "metadata": {
        "id": "view-in-github",
        "colab_type": "text"
      },
      "source": [
        "<a href=\"https://colab.research.google.com/github/Jdka1/Kaggle-Disaster-Tweet-Prediction/blob/main/Kaggle_Tweet_Analysis_Competition.ipynb\" target=\"_parent\"><img src=\"https://colab.research.google.com/assets/colab-badge.svg\" alt=\"Open In Colab\"/></a>"
      ]
    },
    {
      "cell_type": "code",
      "source": [
        "!pip install kaggle\n",
        "!mkdir ~/.kaggle\n",
        "!touch ~/.kaggle/kaggle.json\n",
        "\n",
        "api_token = {\"username\":\"aryanmehra\",\"key\":\"02cedc58913d4420bbafb80ff315eed5\"}\n",
        "\n",
        "import json\n",
        "\n",
        "with open('/root/.kaggle/kaggle.json', 'w') as file:\n",
        "    json.dump(api_token, file)\n",
        "\n",
        "!chmod 600 ~/.kaggle/kaggle.json\n"
      ],
      "metadata": {
        "colab": {
          "base_uri": "https://localhost:8080/"
        },
        "id": "GVSKhZv2Vp4h",
        "outputId": "6340c47e-d54a-4427-c6ca-3963e92a62fd"
      },
      "execution_count": null,
      "outputs": [
        {
          "output_type": "stream",
          "name": "stdout",
          "text": [
            "Looking in indexes: https://pypi.org/simple, https://us-python.pkg.dev/colab-wheels/public/simple/\n",
            "Requirement already satisfied: kaggle in /usr/local/lib/python3.7/dist-packages (1.5.12)\n",
            "Requirement already satisfied: certifi in /usr/local/lib/python3.7/dist-packages (from kaggle) (2022.9.24)\n",
            "Requirement already satisfied: python-dateutil in /usr/local/lib/python3.7/dist-packages (from kaggle) (2.8.2)\n",
            "Requirement already satisfied: six>=1.10 in /usr/local/lib/python3.7/dist-packages (from kaggle) (1.15.0)\n",
            "Requirement already satisfied: tqdm in /usr/local/lib/python3.7/dist-packages (from kaggle) (4.64.1)\n",
            "Requirement already satisfied: requests in /usr/local/lib/python3.7/dist-packages (from kaggle) (2.23.0)\n",
            "Requirement already satisfied: python-slugify in /usr/local/lib/python3.7/dist-packages (from kaggle) (6.1.2)\n",
            "Requirement already satisfied: urllib3 in /usr/local/lib/python3.7/dist-packages (from kaggle) (1.24.3)\n",
            "Requirement already satisfied: text-unidecode>=1.3 in /usr/local/lib/python3.7/dist-packages (from python-slugify->kaggle) (1.3)\n",
            "Requirement already satisfied: chardet<4,>=3.0.2 in /usr/local/lib/python3.7/dist-packages (from requests->kaggle) (3.0.4)\n",
            "Requirement already satisfied: idna<3,>=2.5 in /usr/local/lib/python3.7/dist-packages (from requests->kaggle) (2.10)\n",
            "mkdir: cannot create directory ‘/root/.kaggle’: File exists\n"
          ]
        }
      ]
    },
    {
      "cell_type": "code",
      "source": [
        "!kaggle competitions download -c nlp-getting-started\n",
        "!unzip nlp-getting-started.zip"
      ],
      "metadata": {
        "colab": {
          "base_uri": "https://localhost:8080/"
        },
        "id": "YubiInbEValJ",
        "outputId": "a1803aae-5ce6-47cf-a673-ccd6e722a6bb"
      },
      "execution_count": null,
      "outputs": [
        {
          "output_type": "stream",
          "name": "stdout",
          "text": [
            "nlp-getting-started.zip: Skipping, found more recently modified local copy (use --force to force download)\n",
            "Archive:  nlp-getting-started.zip\n",
            "replace sample_submission.csv? [y]es, [n]o, [A]ll, [N]one, [r]ename: y\n",
            "  inflating: sample_submission.csv   \n",
            "replace test.csv? [y]es, [n]o, [A]ll, [N]one, [r]ename: y\n",
            "  inflating: test.csv                \n",
            "replace train.csv? [y]es, [n]o, [A]ll, [N]one, [r]ename: y\n",
            "  inflating: train.csv               \n"
          ]
        }
      ]
    },
    {
      "cell_type": "code",
      "source": [
        "import pandas as pd\n",
        "import numpy as np\n",
        "from sklearn import feature_extraction, linear_model, model_selection, preprocessing\n",
        "\n",
        "\n",
        "train_df = pd.read_csv('train.csv')\n",
        "test_df = pd.read_csv('test.csv')"
      ],
      "metadata": {
        "id": "XnvAmSNOWyRj"
      },
      "execution_count": null,
      "outputs": []
    },
    {
      "cell_type": "code",
      "source": [
        "count_vectorizer = feature_extraction.text.CountVectorizer()\n",
        "\n",
        "train_counts = count_vectorizer.fit_transform(train_df['text'])\n",
        "print(f'Number of unique words: {train_counts[0].todense().shape[1]}')\n",
        "\n",
        "test_counts = count_vectorizer.transform(test_df['text'])"
      ],
      "metadata": {
        "colab": {
          "base_uri": "https://localhost:8080/"
        },
        "id": "3AK_7DrYac38",
        "outputId": "9557f4e9-8446-4bf1-f263-e08bdf11f68a"
      },
      "execution_count": null,
      "outputs": [
        {
          "output_type": "stream",
          "name": "stdout",
          "text": [
            "Number of unique words: 21637\n"
          ]
        }
      ]
    },
    {
      "cell_type": "code",
      "source": [
        "# Using ridge regression (to push the coeffiecients towards 0)\n",
        "# This allows the model to avoid overfitting\n",
        "# Therefore it will work better on new data\n",
        "clf = linear_model.RidgeClassifier()\n",
        "clf.fit(train_counts, train_df['target'])"
      ],
      "metadata": {
        "colab": {
          "base_uri": "https://localhost:8080/"
        },
        "id": "2-He9FQpq6Ty",
        "outputId": "9f226d68-1e20-4c04-8d39-621a3ca452df"
      },
      "execution_count": null,
      "outputs": [
        {
          "output_type": "execute_result",
          "data": {
            "text/plain": [
              "RidgeClassifier()"
            ]
          },
          "metadata": {},
          "execution_count": 88
        }
      ]
    },
    {
      "cell_type": "code",
      "source": [
        "submission = pd.read_csv('test.csv')\n",
        "submission['target'] = clf.predict(test_counts)\n",
        "submission"
      ],
      "metadata": {
        "id": "WIPgDZ9krYnb"
      },
      "execution_count": null,
      "outputs": []
    },
    {
      "cell_type": "code",
      "source": [
        "from sklearn.model_selection import train_test_split\n",
        "X_train, X_test, y_train, y_test = train_test_split(train_counts, train_df['target'], test_size=0.33)\n",
        "\n",
        "y_pred = clf.predict(X_test)\n",
        "y_actual = list(y_test)\n",
        "\n",
        "# for i in range(len(y_pred)):\n",
        "#   print(f'{y_pred[i]} : {y_actual[i]}')\n",
        "\n",
        "def recall(pred, actual):\n",
        "  # Check how many true positives were missed\n",
        "  recall_df = pd.DataFrame(columns=['Pred','Actual'])\n",
        "  recall_df['Pred'], recall_df['Actual'] = pred, actual\n",
        "  recall_df = recall_df.where(recall_df['Actual'] == 1).dropna()\n",
        "\n",
        "  num_total = len(recall_df.index)\n",
        "  num_positve = len(recall_df.where(recall_df['Pred'] == recall_df['Actual']).dropna().index)\n",
        "\n",
        "  recall = num_positve / num_total\n",
        "  return recall\n",
        "\n",
        "def precision(pred, actual):\n",
        "  # Check how many positives were true positives\n",
        "  accuracy_df = pd.DataFrame(columns=['Pred','Actual'])\n",
        "  accuracy_df['Pred'], accuracy_df['Actual'] = pred, actual\n",
        "  accuracy_df = accuracy_df.where(accuracy_df['Pred'] == 1).dropna()\n",
        "\n",
        "  num_positives = len(accuracy_df.index)\n",
        "  num_true_positives = len(accuracy_df.where(accuracy_df['Actual'] == 1).dropna().index)\n",
        "\n",
        "  return num_true_positives / num_positives\n",
        "\n",
        "\n",
        "print(f'Precision: {round(precision(y_pred, y_actual) * 100, 3)}%')\n",
        "print(f'Recall: {round(recall(y_pred, y_actual) * 100, 3)}%')"
      ],
      "metadata": {
        "colab": {
          "base_uri": "https://localhost:8080/"
        },
        "id": "OAOybGU6sCEk",
        "outputId": "b2bea673-2b77-4743-b584-e5fc18e2e12a"
      },
      "execution_count": null,
      "outputs": [
        {
          "output_type": "stream",
          "name": "stdout",
          "text": [
            "Precision: 99.714%\n",
            "Recall: 99.335%\n"
          ]
        }
      ]
    },
    {
      "cell_type": "code",
      "source": [],
      "metadata": {
        "id": "E9PdRvk_2K14"
      },
      "execution_count": null,
      "outputs": []
    },
    {
      "cell_type": "code",
      "source": [],
      "metadata": {
        "id": "IJZIhIhpvOwZ"
      },
      "execution_count": null,
      "outputs": []
    }
  ]
}